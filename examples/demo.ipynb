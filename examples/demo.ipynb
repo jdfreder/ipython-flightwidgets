{
 "cells": [
  {
   "cell_type": "code",
   "execution_count": 60,
   "metadata": {
    "collapsed": false
   },
   "outputs": [],
   "source": [
    "from IPython.html.widgets import FloatSlider, jsdlink\n",
    "from IPython.display import display\n",
    "from flightwidgets import FlightAttitudeWidget\n",
    "\n",
    "f = FlightAttitudeWidget()\n",
    "roll = FloatSlider(value=0., min=-180., max=180., description='Roll:')\n",
    "pitch = FloatSlider(value=0., min=-180., max=180., description='Pitch:')\n",
    "jsdlink((roll, 'value'), (f, 'roll'))\n",
    "jsdlink((pitch, 'value'), (f, 'pitch'))\n",
    "display(f, roll, pitch)"
   ]
  },
  {
   "cell_type": "code",
   "execution_count": null,
   "metadata": {
    "collapsed": true
   },
   "outputs": [],
   "source": []
  }
 ],
 "metadata": {
  "kernelspec": {
   "display_name": "Python 2",
   "language": "python",
   "name": "python2"
  },
  "language_info": {
   "codemirror_mode": {
    "name": "ipython",
    "version": 2
   },
   "file_extension": ".py",
   "mimetype": "text/x-python",
   "name": "python",
   "nbconvert_exporter": "python",
   "pygments_lexer": "ipython2",
   "version": "2.7.6"
  }
 },
 "nbformat": 4,
 "nbformat_minor": 0
}
